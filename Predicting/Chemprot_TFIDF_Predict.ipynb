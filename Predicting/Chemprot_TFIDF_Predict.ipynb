{
  "nbformat": 4,
  "nbformat_minor": 0,
  "metadata": {
    "colab": {
      "name": "Chemprot_TFIDF_Predict.ipynb",
      "provenance": [],
      "collapsed_sections": []
    },
    "kernelspec": {
      "name": "python3",
      "display_name": "Python 3"
    },
    "language_info": {
      "name": "python"
    }
  },
  "cells": [
    {
      "cell_type": "code",
      "execution_count": null,
      "metadata": {
        "colab": {
          "base_uri": "https://localhost:8080/"
        },
        "id": "_fAnajOOZmWy",
        "outputId": "05c04f1c-66ea-44e9-abbc-07f42051ea67"
      },
      "outputs": [
        {
          "output_type": "stream",
          "name": "stderr",
          "text": [
            "[nltk_data] Downloading package punkt to /root/nltk_data...\n",
            "[nltk_data]   Unzipping tokenizers/punkt.zip.\n",
            "[nltk_data] Downloading package stopwords to /root/nltk_data...\n",
            "[nltk_data]   Unzipping corpora/stopwords.zip.\n"
          ]
        }
      ],
      "source": [
        "import pandas as pd\n",
        "import numpy as np\n",
        "from nltk.tokenize import word_tokenize\n",
        "from nltk import pos_tag\n",
        "from nltk.corpus import stopwords\n",
        "from nltk.stem import WordNetLemmatizer\n",
        "from sklearn.preprocessing import LabelEncoder\n",
        "from collections import defaultdict\n",
        "from nltk.corpus import wordnet as wn\n",
        "from sklearn.feature_extraction.text import TfidfVectorizer\n",
        "from sklearn import model_selection, naive_bayes, svm\n",
        "from sklearn.metrics import accuracy_score\n",
        "import pandas as pd\n",
        "from nltk import regexp_tokenize\n",
        "import nltk\n",
        "nltk.download('punkt')\n",
        "nltk.download('stopwords')\n",
        "import numpy as np\n",
        "from sklearn import metrics\n",
        "from sklearn.feature_extraction.text import TfidfVectorizer\n",
        "import pickle"
      ]
    },
    {
      "cell_type": "code",
      "source": [
        "loaded_model = pickle.load(open('/content/drive/MyDrive/Colab Notebooks/TEst tfm/Chemprot_Model/Chemprot.sav', 'rb'))"
      ],
      "metadata": {
        "id": "LImS-yeZar6K"
      },
      "execution_count": null,
      "outputs": []
    },
    {
      "cell_type": "code",
      "source": [
        "text='Dose-dependent inhibition of platelet ** cyclooxygenase-1 ** and monocyte cyclooxygenase-2 by ## meloxicam ## in healthy subjects.'\n",
        "df=pd.DataFrame(columns=['text_final'])\n",
        "df=df.append({'text_final': text}, ignore_index=True)"
      ],
      "metadata": {
        "id": "3cjdmB-ra4oc"
      },
      "execution_count": null,
      "outputs": []
    },
    {
      "cell_type": "code",
      "source": [
        "df['text_final']= [regexp_tokenize(entry, pattern=r\"\\s|[\\.,;'-()]\", gaps=True) for entry in df['text_final']]"
      ],
      "metadata": {
        "id": "fTfsrebPcHGL"
      },
      "execution_count": null,
      "outputs": []
    },
    {
      "cell_type": "code",
      "source": [
        "Tfidf_vect = pickle.load(open('/content/drive/MyDrive/Colab Notebooks/TEst tfm/Chemprot_Model/tfidf.pickle', 'rb'))"
      ],
      "metadata": {
        "id": "FsqErvDmcO4W"
      },
      "execution_count": null,
      "outputs": []
    },
    {
      "cell_type": "code",
      "source": [
        "text_try = Tfidf_vect.transform(df['text_final'].apply(lambda lista: ' '.join(lista)))"
      ],
      "metadata": {
        "id": "YNaIlbOGcT3B"
      },
      "execution_count": null,
      "outputs": []
    },
    {
      "cell_type": "code",
      "source": [
        "predictions_SVM = loaded_model.predict(text_try)"
      ],
      "metadata": {
        "id": "UfYbpaE7cYPO"
      },
      "execution_count": null,
      "outputs": []
    },
    {
      "cell_type": "code",
      "source": [
        "print(\"Predicted=%s\" % (predictions_SVM[0]))"
      ],
      "metadata": {
        "colab": {
          "base_uri": "https://localhost:8080/"
        },
        "id": "jdjagWlbcbz4",
        "outputId": "289cc162-25ed-4db6-d6f6-30478db73443"
      },
      "execution_count": null,
      "outputs": [
        {
          "output_type": "stream",
          "name": "stdout",
          "text": [
            "Predicted=INHIBITOR\n"
          ]
        }
      ]
    },
    {
      "cell_type": "code",
      "source": [
        "predictions_SVM[0]"
      ],
      "metadata": {
        "colab": {
          "base_uri": "https://localhost:8080/",
          "height": 35
        },
        "id": "9z1oo_MocrsI",
        "outputId": "348c3bfb-e9d0-499f-e9a2-0859d6d4907f"
      },
      "execution_count": null,
      "outputs": [
        {
          "output_type": "execute_result",
          "data": {
            "text/plain": [
              "'INHIBITOR'"
            ],
            "application/vnd.google.colaboratory.intrinsic+json": {
              "type": "string"
            }
          },
          "metadata": {},
          "execution_count": 9
        }
      ]
    }
  ]
}