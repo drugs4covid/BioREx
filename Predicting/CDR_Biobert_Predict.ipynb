{
  "nbformat": 4,
  "nbformat_minor": 0,
  "metadata": {
    "colab": {
      "name": "CDR_Predict.ipynb",
      "provenance": [],
      "collapsed_sections": []
    },
    "kernelspec": {
      "name": "python3",
      "display_name": "Python 3"
    },
    "language_info": {
      "name": "python"
    }
  },
  "cells": [
    {
      "cell_type": "code",
      "execution_count": null,
      "metadata": {
        "colab": {
          "base_uri": "https://localhost:8080/"
        },
        "id": "zEAIIvmZC5-E",
        "outputId": "8f5211d7-5077-4c26-c8c9-4067c77ee61a"
      },
      "outputs": [
        {
          "output_type": "stream",
          "name": "stdout",
          "text": [
            "[nltk_data] Downloading package punkt to /root/nltk_data...\n",
            "[nltk_data]   Unzipping tokenizers/punkt.zip.\n",
            "[nltk_data] Downloading package stopwords to /root/nltk_data...\n",
            "[nltk_data]   Unzipping corpora/stopwords.zip.\n"
          ]
        }
      ],
      "source": [
        "import pandas as pd\n",
        "import numpy as np\n",
        "from nltk.tokenize import word_tokenize\n",
        "from nltk import pos_tag\n",
        "from nltk.corpus import stopwords\n",
        "from nltk.stem import WordNetLemmatizer\n",
        "from sklearn.preprocessing import LabelEncoder\n",
        "from collections import defaultdict\n",
        "from nltk.corpus import wordnet as wn\n",
        "from sklearn.feature_extraction.text import TfidfVectorizer\n",
        "from sklearn import model_selection, naive_bayes, svm\n",
        "from sklearn.metrics import accuracy_score\n",
        "import pandas as pd\n",
        "from nltk import regexp_tokenize\n",
        "import nltk\n",
        "nltk.download('punkt')\n",
        "nltk.download('stopwords')\n",
        "import numpy as np\n",
        "from sklearn import metrics\n",
        "from sklearn.feature_extraction.text import TfidfVectorizer\n",
        "import pickle"
      ]
    },
    {
      "cell_type": "code",
      "source": [
        "loaded_model = pickle.load(open('/content/drive/MyDrive/Colab Notebooks/TEst tfm/CDR_Model_bIOBERT/CDR_Biobertemb_model.sav', 'rb'))"
      ],
      "metadata": {
        "id": "b2MWNxZaDoSV"
      },
      "execution_count": null,
      "outputs": []
    },
    {
      "cell_type": "code",
      "source": [
        "text='the heart block was treated by pacemaker insertion and the  @DISEASE$  resolved spontaneously following  @CHEMICAL$  discontinuation.'"
      ],
      "metadata": {
        "id": "5xlQ2e6PEZvf"
      },
      "execution_count": null,
      "outputs": []
    },
    {
      "cell_type": "code",
      "source": [
        "df=pd.DataFrame(columns=['text_final'])"
      ],
      "metadata": {
        "id": "pQKNY_v1Fwdv"
      },
      "execution_count": null,
      "outputs": []
    },
    {
      "cell_type": "code",
      "source": [
        "df=df.append({'text_final': text}, ignore_index=True)"
      ],
      "metadata": {
        "id": "2ngCOD3AGXxx"
      },
      "execution_count": null,
      "outputs": []
    },
    {
      "cell_type": "code",
      "source": [
        "df['text_final']= [regexp_tokenize(entry, pattern=r\"\\s|[\\.,;'-()]\", gaps=True) for entry in df['text_final']]"
      ],
      "metadata": {
        "id": "fEhl0fryHDHd"
      },
      "execution_count": null,
      "outputs": []
    },
    {
      "cell_type": "code",
      "source": [
        "#FUNCTION TO EMBBED WITH BIOBERT\n",
        "def embiobert(sentence, model):\n",
        "  return model(' '.join(sentence))"
      ],
      "metadata": {
        "id": "o1UJZ1pRH9ct"
      },
      "execution_count": null,
      "outputs": []
    },
    {
      "cell_type": "code",
      "source": [
        "#EMBBEDING WITH BIOBERT\n",
        "from biobert_embedding.embedding import BiobertEmbedding\n",
        "biobert = BiobertEmbedding(model_path='/content/drive/MyDrive/Colab Notebooks/TEst tfm/biobert for embb')\n",
        "Train_X_2vec = pd.DataFrame(np.vstack( df['text_final'].apply(lambda description: embiobert(description, biobert.sentence_vector))))"
      ],
      "metadata": {
        "id": "AMOTMZl1qPNE"
      },
      "execution_count": null,
      "outputs": []
    },
    {
      "cell_type": "code",
      "source": [
        "predictions_SVM = loaded_model.predict(Train_X_2vec)"
      ],
      "metadata": {
        "id": "D_SVCo2wD2HG"
      },
      "execution_count": null,
      "outputs": []
    },
    {
      "cell_type": "code",
      "source": [
        "print(\"Predicted=%s\" % (predictions_SVM[0]))"
      ],
      "metadata": {
        "colab": {
          "base_uri": "https://localhost:8080/"
        },
        "id": "52SoR4fyPCNn",
        "outputId": "c8153165-3d24-4101-c865-86ddc41655a8"
      },
      "execution_count": null,
      "outputs": [
        {
          "output_type": "stream",
          "name": "stdout",
          "text": [
            "Predicted=1\n"
          ]
        }
      ]
    }
  ]
}