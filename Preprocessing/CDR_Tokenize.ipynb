{
  "nbformat": 4,
  "nbformat_minor": 0,
  "metadata": {
    "colab": {
      "name": "CDR_Tokenize.ipynb",
      "provenance": [],
      "collapsed_sections": []
    },
    "kernelspec": {
      "name": "python3",
      "display_name": "Python 3"
    },
    "language_info": {
      "name": "python"
    }
  },
  "cells": [
    {
      "cell_type": "code",
      "execution_count": null,
      "metadata": {
        "id": "0IF9OZVhdDO5"
      },
      "outputs": [],
      "source": [
        "import pandas as pd\n",
        "import re\n",
        "import imblearn\n",
        "from imblearn.datasets import make_imbalance\n",
        "from imblearn.over_sampling import SMOTE\n",
        "from collections import Counter"
      ]
    },
    {
      "cell_type": "code",
      "source": [
        "from google.colab import drive\n",
        "drive.mount('/content/drive')"
      ],
      "metadata": {
        "colab": {
          "base_uri": "https://localhost:8080/"
        },
        "id": "hf8tqO_1-DGN",
        "outputId": "b7c880a1-c84d-446d-d4a3-522c9086c7e3"
      },
      "execution_count": null,
      "outputs": [
        {
          "output_type": "stream",
          "name": "stdout",
          "text": [
            "Drive already mounted at /content/drive; to attempt to forcibly remount, call drive.mount(\"/content/drive\", force_remount=True).\n"
          ]
        }
      ]
    },
    {
      "cell_type": "code",
      "source": [
        "df=pd.read_csv('/content/drive/MyDrive/Colab Notebooks/TEst tfm/DATASETS_CDR/CDR_Test.csv')"
      ],
      "metadata": {
        "id": "y3gI8kI6fIlv"
      },
      "execution_count": null,
      "outputs": []
    },
    {
      "cell_type": "code",
      "source": [
        "#this lines only for training and test datasets(estas lineas solo para los datasets de training y test)\n",
        "df=df.rename(columns={\"Label\": \"label\"})\n",
        "df=df.rename(columns={\"entidad_1_name\": \"entity_1_name\"})"
      ],
      "metadata": {
        "id": "JfxoXx5DCsXU"
      },
      "execution_count": null,
      "outputs": []
    },
    {
      "cell_type": "code",
      "source": [
        "print('1:', df['label'][df['label']==1].shape[0], '0:',df['label'][df['label']==0].shape[0])\n"
      ],
      "metadata": {
        "colab": {
          "base_uri": "https://localhost:8080/"
        },
        "id": "U2fb9MP3fSsW",
        "outputId": "b8d2c4ec-c260-404b-a5d8-3f9794b63f43"
      },
      "execution_count": null,
      "outputs": [
        {
          "output_type": "stream",
          "name": "stdout",
          "text": [
            "1: 1711 0: 30512\n"
          ]
        }
      ]
    },
    {
      "cell_type": "code",
      "source": [
        "#to lowercase\n",
        "df['Sentence']= df['Sentence'].str.lower()\n",
        "df['entity_2_name']= df['entity_2_name'].str.lower()\n",
        "df['entity_1_name']= df['entity_1_name'].str.lower()\n",
        "#drop duplicates\n",
        "df= df.drop_duplicates()\n",
        "#drop sentences with less than 7 words\n",
        "df['totalwords'] = df['Sentence'].str.split().str.len()\n",
        "df = df[df['totalwords'] >= 7]\n",
        "del df[\"totalwords\"]\n",
        "\n"
      ],
      "metadata": {
        "id": "jqCgN_Jg-Vl5"
      },
      "execution_count": null,
      "outputs": []
    },
    {
      "cell_type": "code",
      "source": [
        "print('1:', df['label'][df['label']==1].shape[0], '0:',df['label'][df['label']==0].shape[0])"
      ],
      "metadata": {
        "colab": {
          "base_uri": "https://localhost:8080/"
        },
        "id": "IM5o8L09RNhA",
        "outputId": "d4023af2-9596-42a0-b9ee-9a941dd6aac3"
      },
      "execution_count": null,
      "outputs": [
        {
          "output_type": "stream",
          "name": "stdout",
          "text": [
            "1: 1655 0: 18029\n"
          ]
        }
      ]
    },
    {
      "cell_type": "code",
      "source": [
        "\n",
        "#balancing labels\n",
        "y_train=df['label']\n",
        "df2=df.drop('label', axis=1)\n",
        "X,Y = make_imbalance(df2, y_train, sampling_strategy={0: 1655, 1: 1655},random_state=14)\n",
        "X['labels']=Y\n",
        "Dat=X\n"
      ],
      "metadata": {
        "id": "JbnBP0Slil_9"
      },
      "execution_count": null,
      "outputs": []
    },
    {
      "cell_type": "code",
      "source": [
        "print('1:', Dat['labels'][Dat['labels']==1].shape[0], '0:',Dat['labels'][Dat['labels']==0].shape[0])"
      ],
      "metadata": {
        "colab": {
          "base_uri": "https://localhost:8080/"
        },
        "id": "JtCwWky8H-3u",
        "outputId": "27601a42-0353-44e4-b99c-1dcf31cdc725"
      },
      "execution_count": null,
      "outputs": [
        {
          "output_type": "stream",
          "name": "stdout",
          "text": [
            "1: 1655 0: 1655\n"
          ]
        }
      ]
    },
    {
      "cell_type": "code",
      "source": [
        "def token_ent1(datafr):\n",
        "  text=''\n",
        "  text1=''\n",
        "  text2=''\n",
        "  text3=''\n",
        "  text4=''\n",
        "  text5=''\n",
        "  text6=''\n",
        "  sentence=''\n",
        "  replaced_text=''\n",
        "  for index, row in datafr.iterrows():\n",
        "    sentence= row['Sentence']\n",
        "    text=row['entity_1_name']\n",
        "    text1=\" \"+text+\" \"\n",
        "    text2=\"(\"+text+\")\"\n",
        "    text3=\" \"+text+\"-\"\n",
        "    text4=\" \"+text+\",\"\n",
        "    text5=\" \"+text+\".\"\n",
        "    text6=\" \"+text+\":\"\n",
        "    #text='\\t'+text+'\\t'\n",
        "    if text1 in sentence:\n",
        "      datafr['Sentence'].loc[index]=re.sub(text,\" \"+\"@CHEMICAL$\"+\" \", sentence)\n",
        "    if text2 in sentence:\n",
        "      datafr['Sentence'].loc[index]=re.sub(text,\"(\"+\"@CHEMICAL$\"+\")\", sentence)\n",
        "    if text3 in sentence:\n",
        "      datafr['Sentence'].loc[index]=re.sub(text,\" \"+\"@CHEMICAL$\"+\"-\", sentence)\n",
        "    if text4 in sentence:\n",
        "      datafr['Sentence'].loc[index]=re.sub(text,\" \"+\"@CHEMICAL$\"+\",\", sentence)\n",
        "    if text5 in sentence:\n",
        "      datafr['Sentence'].loc[index]=re.sub(text,\" \"+\"@CHEMICAL$\"+\".\", sentence)\n",
        "    if text6 in sentence:\n",
        "      datafr['Sentence'].loc[index]=re.sub(text,\" \"+\"@CHEMICAL$\"+\":\", sentence)\n",
        "  return(datafr)\n",
        "  "
      ],
      "metadata": {
        "id": "3tls7OuzqQ5U"
      },
      "execution_count": null,
      "outputs": []
    },
    {
      "cell_type": "code",
      "source": [
        "def token_ent2(datafr):\n",
        "  text=''\n",
        "  text1=''\n",
        "  text2=''\n",
        "  text3=''\n",
        "  text4=''\n",
        "  text5=''\n",
        "  text6=''\n",
        "  sentence=''\n",
        "  replaced_text=''\n",
        "  for index, row in datafr.iterrows():\n",
        "    sentence= row['Sentence']\n",
        "    text=row['entity_2_name']\n",
        "    text1=\" \"+text+\" \"\n",
        "    text2=\"(\"+text+\")\"\n",
        "    text3=\" \"+text+\"-\"\n",
        "    text4=\" \"+text+\",\"\n",
        "    text5=\" \"+text+\".\"\n",
        "    text6=\" \"+text+\":\"\n",
        "    if text1 in sentence:\n",
        "      datafr['Sentence'].loc[index]=re.sub(text,\" \"+\"@DISEASE$\"+\" \", sentence)\n",
        "    if text2 in sentence:\n",
        "      datafr['Sentence'].loc[index]=re.sub(text,\"(\"+\"@DISEASE$\"+\")\", sentence)\n",
        "    if text3 in sentence:\n",
        "      datafr['Sentence'].loc[index]=re.sub(text,\" \"+\"@DISEASE$\"+\"-\", sentence)\n",
        "    if text4 in sentence:\n",
        "      datafr['Sentence'].loc[index]=re.sub(text,\" \"+\"@DISEASE$\"+\",\", sentence)\n",
        "    if text5 in sentence:\n",
        "      datafr['Sentence'].loc[index]=re.sub(text,\" \"+\"@DISEASE$\"+\".\", sentence)\n",
        "    if text6 in sentence:\n",
        "      datafr['Sentence'].loc[index]=re.sub(text,\" \"+\"@DISEASE$\"+\":\", sentence)\n",
        "  return(datafr)"
      ],
      "metadata": {
        "id": "N2Zv_4LJBKCu"
      },
      "execution_count": null,
      "outputs": []
    },
    {
      "cell_type": "code",
      "source": [
        "Dat5=token_ent1(Dat)\n",
        "Dat6=token_ent2(Dat5)\n",
        "Dat6"
      ],
      "metadata": {
        "id": "V33q5qnEy8UZ",
        "colab": {
          "base_uri": "https://localhost:8080/",
          "height": 728
        },
        "outputId": "f0d4b002-8c72-49d9-faf0-099bcafad71f"
      },
      "execution_count": null,
      "outputs": [
        {
          "output_type": "stream",
          "name": "stderr",
          "text": [
            "/usr/local/lib/python3.7/dist-packages/pandas/core/indexing.py:1732: SettingWithCopyWarning: \n",
            "A value is trying to be set on a copy of a slice from a DataFrame\n",
            "\n",
            "See the caveats in the documentation: https://pandas.pydata.org/pandas-docs/stable/user_guide/indexing.html#returning-a-view-versus-a-copy\n",
            "  self._setitem_single_block(indexer, value, name)\n"
          ]
        },
        {
          "output_type": "execute_result",
          "data": {
            "text/plain": [
              "                                               Sentence    entity_1_name  \\\n",
              "0     a significant reduction in urinary guanosine 3...               gm   \n",
              "1     although several new anticoagulant drugs are i...         heparins   \n",
              "2     conclusions: based on the results,  @CHEMICAL$...          s-53482   \n",
              "3     there were no differences in the clinical back...              bpd   \n",
              "4     methods: this was a cross-sectional study cond...  methamphetamine   \n",
              "...                                                 ...              ...   \n",
              "3305  6% as caused by prolonged  @CHEMICAL$  therapy...              cpa   \n",
              "3306  pilocarpine produced  @DISEASE$  in the hippoc...      pilocarpine   \n",
              "3307  practical implications: as much as 15% of  @CH...          lithium   \n",
              "3308  conversion to srl prevented  @CHEMICAL$--induc...              csa   \n",
              "3309  furthermore, selective destruction of the spin...        clonidine   \n",
              "\n",
              "     entity_1_id entity_1_type               entity_2_name entity_2_id  \\\n",
              "0        D005839      Chemical              tubular damage     D007674   \n",
              "1        D006493      Chemical          allergic reactions     D004342   \n",
              "2        C106487      Chemical  ventricular septal defects     D006345   \n",
              "3        D015764      Chemical                     fatigue     D005221   \n",
              "4        D008694      Chemical          psychotic symptoms     D011605   \n",
              "...          ...           ...                         ...         ...   \n",
              "3305     C048599      Chemical    hyperglyceridemic effect     D050171   \n",
              "3306     D010862      Chemical              neuronal death     D009410   \n",
              "3307     D008094      Chemical               hypercalcemic     D006934   \n",
              "3308     D016572      Chemical                renal damage     D007674   \n",
              "3309     D003000      Chemical                 bradycardia     D001919   \n",
              "\n",
              "     entity_2_type  labels  \n",
              "0          Disease       0  \n",
              "1          Disease       0  \n",
              "2          Disease       0  \n",
              "3          Disease       0  \n",
              "4          Disease       0  \n",
              "...            ...     ...  \n",
              "3305       Disease       1  \n",
              "3306       Disease       1  \n",
              "3307       Disease       1  \n",
              "3308       Disease       1  \n",
              "3309       Disease       1  \n",
              "\n",
              "[3310 rows x 8 columns]"
            ],
            "text/html": [
              "\n",
              "  <div id=\"df-474ea29a-a2cc-451c-adc3-f4ccf2386d92\">\n",
              "    <div class=\"colab-df-container\">\n",
              "      <div>\n",
              "<style scoped>\n",
              "    .dataframe tbody tr th:only-of-type {\n",
              "        vertical-align: middle;\n",
              "    }\n",
              "\n",
              "    .dataframe tbody tr th {\n",
              "        vertical-align: top;\n",
              "    }\n",
              "\n",
              "    .dataframe thead th {\n",
              "        text-align: right;\n",
              "    }\n",
              "</style>\n",
              "<table border=\"1\" class=\"dataframe\">\n",
              "  <thead>\n",
              "    <tr style=\"text-align: right;\">\n",
              "      <th></th>\n",
              "      <th>Sentence</th>\n",
              "      <th>entity_1_name</th>\n",
              "      <th>entity_1_id</th>\n",
              "      <th>entity_1_type</th>\n",
              "      <th>entity_2_name</th>\n",
              "      <th>entity_2_id</th>\n",
              "      <th>entity_2_type</th>\n",
              "      <th>labels</th>\n",
              "    </tr>\n",
              "  </thead>\n",
              "  <tbody>\n",
              "    <tr>\n",
              "      <th>0</th>\n",
              "      <td>a significant reduction in urinary guanosine 3...</td>\n",
              "      <td>gm</td>\n",
              "      <td>D005839</td>\n",
              "      <td>Chemical</td>\n",
              "      <td>tubular damage</td>\n",
              "      <td>D007674</td>\n",
              "      <td>Disease</td>\n",
              "      <td>0</td>\n",
              "    </tr>\n",
              "    <tr>\n",
              "      <th>1</th>\n",
              "      <td>although several new anticoagulant drugs are i...</td>\n",
              "      <td>heparins</td>\n",
              "      <td>D006493</td>\n",
              "      <td>Chemical</td>\n",
              "      <td>allergic reactions</td>\n",
              "      <td>D004342</td>\n",
              "      <td>Disease</td>\n",
              "      <td>0</td>\n",
              "    </tr>\n",
              "    <tr>\n",
              "      <th>2</th>\n",
              "      <td>conclusions: based on the results,  @CHEMICAL$...</td>\n",
              "      <td>s-53482</td>\n",
              "      <td>C106487</td>\n",
              "      <td>Chemical</td>\n",
              "      <td>ventricular septal defects</td>\n",
              "      <td>D006345</td>\n",
              "      <td>Disease</td>\n",
              "      <td>0</td>\n",
              "    </tr>\n",
              "    <tr>\n",
              "      <th>3</th>\n",
              "      <td>there were no differences in the clinical back...</td>\n",
              "      <td>bpd</td>\n",
              "      <td>D015764</td>\n",
              "      <td>Chemical</td>\n",
              "      <td>fatigue</td>\n",
              "      <td>D005221</td>\n",
              "      <td>Disease</td>\n",
              "      <td>0</td>\n",
              "    </tr>\n",
              "    <tr>\n",
              "      <th>4</th>\n",
              "      <td>methods: this was a cross-sectional study cond...</td>\n",
              "      <td>methamphetamine</td>\n",
              "      <td>D008694</td>\n",
              "      <td>Chemical</td>\n",
              "      <td>psychotic symptoms</td>\n",
              "      <td>D011605</td>\n",
              "      <td>Disease</td>\n",
              "      <td>0</td>\n",
              "    </tr>\n",
              "    <tr>\n",
              "      <th>...</th>\n",
              "      <td>...</td>\n",
              "      <td>...</td>\n",
              "      <td>...</td>\n",
              "      <td>...</td>\n",
              "      <td>...</td>\n",
              "      <td>...</td>\n",
              "      <td>...</td>\n",
              "      <td>...</td>\n",
              "    </tr>\n",
              "    <tr>\n",
              "      <th>3305</th>\n",
              "      <td>6% as caused by prolonged  @CHEMICAL$  therapy...</td>\n",
              "      <td>cpa</td>\n",
              "      <td>C048599</td>\n",
              "      <td>Chemical</td>\n",
              "      <td>hyperglyceridemic effect</td>\n",
              "      <td>D050171</td>\n",
              "      <td>Disease</td>\n",
              "      <td>1</td>\n",
              "    </tr>\n",
              "    <tr>\n",
              "      <th>3306</th>\n",
              "      <td>pilocarpine produced  @DISEASE$  in the hippoc...</td>\n",
              "      <td>pilocarpine</td>\n",
              "      <td>D010862</td>\n",
              "      <td>Chemical</td>\n",
              "      <td>neuronal death</td>\n",
              "      <td>D009410</td>\n",
              "      <td>Disease</td>\n",
              "      <td>1</td>\n",
              "    </tr>\n",
              "    <tr>\n",
              "      <th>3307</th>\n",
              "      <td>practical implications: as much as 15% of  @CH...</td>\n",
              "      <td>lithium</td>\n",
              "      <td>D008094</td>\n",
              "      <td>Chemical</td>\n",
              "      <td>hypercalcemic</td>\n",
              "      <td>D006934</td>\n",
              "      <td>Disease</td>\n",
              "      <td>1</td>\n",
              "    </tr>\n",
              "    <tr>\n",
              "      <th>3308</th>\n",
              "      <td>conversion to srl prevented  @CHEMICAL$--induc...</td>\n",
              "      <td>csa</td>\n",
              "      <td>D016572</td>\n",
              "      <td>Chemical</td>\n",
              "      <td>renal damage</td>\n",
              "      <td>D007674</td>\n",
              "      <td>Disease</td>\n",
              "      <td>1</td>\n",
              "    </tr>\n",
              "    <tr>\n",
              "      <th>3309</th>\n",
              "      <td>furthermore, selective destruction of the spin...</td>\n",
              "      <td>clonidine</td>\n",
              "      <td>D003000</td>\n",
              "      <td>Chemical</td>\n",
              "      <td>bradycardia</td>\n",
              "      <td>D001919</td>\n",
              "      <td>Disease</td>\n",
              "      <td>1</td>\n",
              "    </tr>\n",
              "  </tbody>\n",
              "</table>\n",
              "<p>3310 rows × 8 columns</p>\n",
              "</div>\n",
              "      <button class=\"colab-df-convert\" onclick=\"convertToInteractive('df-474ea29a-a2cc-451c-adc3-f4ccf2386d92')\"\n",
              "              title=\"Convert this dataframe to an interactive table.\"\n",
              "              style=\"display:none;\">\n",
              "        \n",
              "  <svg xmlns=\"http://www.w3.org/2000/svg\" height=\"24px\"viewBox=\"0 0 24 24\"\n",
              "       width=\"24px\">\n",
              "    <path d=\"M0 0h24v24H0V0z\" fill=\"none\"/>\n",
              "    <path d=\"M18.56 5.44l.94 2.06.94-2.06 2.06-.94-2.06-.94-.94-2.06-.94 2.06-2.06.94zm-11 1L8.5 8.5l.94-2.06 2.06-.94-2.06-.94L8.5 2.5l-.94 2.06-2.06.94zm10 10l.94 2.06.94-2.06 2.06-.94-2.06-.94-.94-2.06-.94 2.06-2.06.94z\"/><path d=\"M17.41 7.96l-1.37-1.37c-.4-.4-.92-.59-1.43-.59-.52 0-1.04.2-1.43.59L10.3 9.45l-7.72 7.72c-.78.78-.78 2.05 0 2.83L4 21.41c.39.39.9.59 1.41.59.51 0 1.02-.2 1.41-.59l7.78-7.78 2.81-2.81c.8-.78.8-2.07 0-2.86zM5.41 20L4 18.59l7.72-7.72 1.47 1.35L5.41 20z\"/>\n",
              "  </svg>\n",
              "      </button>\n",
              "      \n",
              "  <style>\n",
              "    .colab-df-container {\n",
              "      display:flex;\n",
              "      flex-wrap:wrap;\n",
              "      gap: 12px;\n",
              "    }\n",
              "\n",
              "    .colab-df-convert {\n",
              "      background-color: #E8F0FE;\n",
              "      border: none;\n",
              "      border-radius: 50%;\n",
              "      cursor: pointer;\n",
              "      display: none;\n",
              "      fill: #1967D2;\n",
              "      height: 32px;\n",
              "      padding: 0 0 0 0;\n",
              "      width: 32px;\n",
              "    }\n",
              "\n",
              "    .colab-df-convert:hover {\n",
              "      background-color: #E2EBFA;\n",
              "      box-shadow: 0px 1px 2px rgba(60, 64, 67, 0.3), 0px 1px 3px 1px rgba(60, 64, 67, 0.15);\n",
              "      fill: #174EA6;\n",
              "    }\n",
              "\n",
              "    [theme=dark] .colab-df-convert {\n",
              "      background-color: #3B4455;\n",
              "      fill: #D2E3FC;\n",
              "    }\n",
              "\n",
              "    [theme=dark] .colab-df-convert:hover {\n",
              "      background-color: #434B5C;\n",
              "      box-shadow: 0px 1px 3px 1px rgba(0, 0, 0, 0.15);\n",
              "      filter: drop-shadow(0px 1px 2px rgba(0, 0, 0, 0.3));\n",
              "      fill: #FFFFFF;\n",
              "    }\n",
              "  </style>\n",
              "\n",
              "      <script>\n",
              "        const buttonEl =\n",
              "          document.querySelector('#df-474ea29a-a2cc-451c-adc3-f4ccf2386d92 button.colab-df-convert');\n",
              "        buttonEl.style.display =\n",
              "          google.colab.kernel.accessAllowed ? 'block' : 'none';\n",
              "\n",
              "        async function convertToInteractive(key) {\n",
              "          const element = document.querySelector('#df-474ea29a-a2cc-451c-adc3-f4ccf2386d92');\n",
              "          const dataTable =\n",
              "            await google.colab.kernel.invokeFunction('convertToInteractive',\n",
              "                                                     [key], {});\n",
              "          if (!dataTable) return;\n",
              "\n",
              "          const docLinkHtml = 'Like what you see? Visit the ' +\n",
              "            '<a target=\"_blank\" href=https://colab.research.google.com/notebooks/data_table.ipynb>data table notebook</a>'\n",
              "            + ' to learn more about interactive tables.';\n",
              "          element.innerHTML = '';\n",
              "          dataTable['output_type'] = 'display_data';\n",
              "          await google.colab.output.renderOutput(dataTable, element);\n",
              "          const docLink = document.createElement('div');\n",
              "          docLink.innerHTML = docLinkHtml;\n",
              "          element.appendChild(docLink);\n",
              "        }\n",
              "      </script>\n",
              "    </div>\n",
              "  </div>\n",
              "  "
            ]
          },
          "metadata": {},
          "execution_count": 20
        }
      ]
    },
    {
      "cell_type": "code",
      "source": [
        "Dat6.to_csv('CDR_Tokenized_Test.csv',index=False,encoding='utf-8')"
      ],
      "metadata": {
        "id": "YoBwjYf0-W0h"
      },
      "execution_count": null,
      "outputs": []
    }
  ]
}